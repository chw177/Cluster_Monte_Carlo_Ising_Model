{
 "cells": [
  {
   "cell_type": "code",
   "execution_count": 1,
   "metadata": {},
   "outputs": [],
   "source": [
    "import pandas as pd \n",
    "import numpy as np\n",
    "import matplotlib.pyplot as plt \n",
    "import random\n",
    "from scipy.optimize import curve_fit\n",
    "import math\n",
    "from tqdm import tqdm\n",
    "import pandas as pd"
   ]
  },
  {
   "cell_type": "code",
   "execution_count": 2,
   "metadata": {},
   "outputs": [],
   "source": [
    "import random, math, numpy as np, os\n",
    "\n",
    "def energy(S, N, nbr):\n",
    "    E = 0.0\n",
    "    for k in range(N):\n",
    "        E -=  S[k] * sum(S[nn] for nn in nbr[k])\n",
    "    return (0.5 * E)/N\n",
    "\n",
    "def magnetization (S, N, nbr):\n",
    "    M = 0.0\n",
    "    for k in range(N):\n",
    "        M += S[k]\n",
    "    return M/(N)\n",
    "\n",
    "def s0sr(S ,L, T): #Only happen at critical Temperature\n",
    "    s0sr = []\n",
    "    for i in range(L):\n",
    "        s0sr.append(S[0]*S[i])\n",
    "    return s0sr\n",
    "\n",
    "def s0(S ,L, T): #Only happen at critical Temperature\n",
    "    s0 = []\n",
    "    for i in range(L):\n",
    "        s0.append(S[0])\n",
    "    return s0\n",
    "\n",
    "def sr(S ,L, T): #Only happen at critical Temperature\n",
    "    sr = []\n",
    "    for i in range(L):\n",
    "        sr.append(S[i])\n",
    "    return sr\n",
    "\n",
    "def calculate(S,T,replace=True):\n",
    "    E = []#[energy(S, N, nbr)]\n",
    "    M = []#[magnetization (S, N, nbr)]\n",
    "    S0 = []\n",
    "    SR = []\n",
    "    S0SR = []\n",
    "\n",
    "    for step in range(nsteps):\n",
    "        print(step)\n",
    "        k = random.randint(0, N - 1)\n",
    "        Pocket, Cluster = [k], [k]\n",
    "        while Pocket != []:\n",
    "            j = random.choice(Pocket) if replace else Pocket.pop()\n",
    "            for l in nbr[j]:\n",
    "                if S[l] == S[j] and l not in Cluster \\\n",
    "                       and random.uniform(0.0, 1.0) < p:\n",
    "                    Pocket.append(l)\n",
    "                    Cluster.append(l)\n",
    "            if replace: Pocket.remove(j)\n",
    "        for j in Cluster:\n",
    "            S[j] *= -1\n",
    "        if step > 88:\n",
    "            E.append(energy(S, N, nbr))\n",
    "            M.append(magnetization(S, N, nbr))\n",
    "            #if T == 4.4:\n",
    "            S0SR.append(s0sr(S ,L, T))##s0s0\n",
    "            S0.append(s0(S ,L, T))\n",
    "            SR.append(sr(S ,L, T))\n",
    "            #print(M)\n",
    "    E_mean = sum(E) / len(E)\n",
    "    E2_mean = sum(a ** 2 for a in E) / len(E)\n",
    "    cv = (E2_mean - E_mean ** 2 ) / T ** 2    \n",
    "    \n",
    "    M_mean = sum(abs(a) for a in M) / len(M)\n",
    "    M2_mean = sum(a ** 2 for a in M) / len(M)\n",
    "    chi = (M2_mean - M_mean ** 2 ) / T \n",
    "    \n",
    "    return S,E_mean, E2_mean,cv,M_mean, M2_mean,chi,S0SR,S0,SR\n"
   ]
  },
  {
   "cell_type": "code",
   "execution_count": 3,
   "metadata": {},
   "outputs": [
    {
     "name": "stderr",
     "output_type": "stream",
     "text": [
      "100%|██████████| 6/6 [00:00<00:00, 2023.63it/s]\n",
      "100%|██████████| 6/6 [00:00<00:00, 238.13it/s]\n"
     ]
    }
   ],
   "source": [
    "L = 6\n",
    "N1 = L\n",
    "N2 = L*L\n",
    "N3 = L*L*L\n",
    "N = L*L*L*L*L\n",
    "count=0\n",
    "\n",
    "five_D_chain = []\n",
    "for b in tqdm(range(N1)):\n",
    "    \n",
    "    four_D_chain =[]\n",
    "    for a in range(N1):\n",
    "        three_D_chain = []\n",
    "        for k in range(N1):\n",
    "            two_D_chain = []\n",
    "            for j in range(N1):\n",
    "\n",
    "                chain = [i+ count*N1 for i in range(N1)]\n",
    "                chain.append(chain[0])\n",
    "                chain.append(chain[-2])\n",
    "                two_D_chain.append(chain)\n",
    "                count+=1\n",
    "            two_D_chain.append(two_D_chain[0])\n",
    "            two_D_chain.append(two_D_chain[-2])\n",
    "\n",
    "\n",
    "            three_D_chain.append(two_D_chain)\n",
    "\n",
    "\n",
    "\n",
    "        three_D_chain.append(three_D_chain[0])\n",
    "        three_D_chain.append(three_D_chain[-2])\n",
    "\n",
    "        four_D_chain.append(three_D_chain)\n",
    "\n",
    "    four_D_chain.append(four_D_chain[0])\n",
    "    four_D_chain.append(four_D_chain[-2])\n",
    "    \n",
    "    five_D_chain.append(four_D_chain)\n",
    "\n",
    "five_D_chain.append(five_D_chain[0])\n",
    "five_D_chain.append(five_D_chain[-2])\n",
    "\n",
    "count=0\n",
    "nbr = {}\n",
    "for b in tqdm(range(N1)):\n",
    "    for a in range(N1):\n",
    "        for i in range(N1):\n",
    "            for j in range(N1):\n",
    "                for k in range(N1):\n",
    "                    nbr[count]=(five_D_chain[i][j+1][k][a][b],five_D_chain[i][j-1][k][a][b],five_D_chain[i+1][j][k][a][b],\\\n",
    "                                five_D_chain[i-1][j][k][a][b], five_D_chain[i][j][k+1][a][b],five_D_chain[i][j][k-1][a][b],\\\n",
    "                               five_D_chain[i][j][k][a+1][b],five_D_chain[i][j][k][a-1][b],\\\n",
    "                               five_D_chain[i][j][k][a][b+1],five_D_chain[i][j][k][a][b-1])\n",
    "                    count+=1\n",
    "\n"
   ]
  },
  {
   "cell_type": "code",
   "execution_count": null,
   "metadata": {
    "scrolled": true
   },
   "outputs": [
    {
     "name": "stdout",
     "output_type": "stream",
     "text": [
      "4.0\n",
      "0\n",
      "1\n",
      "2\n",
      "3\n",
      "4\n",
      "5\n",
      "6\n",
      "7\n",
      "8\n",
      "9\n",
      "10\n",
      "11\n",
      "12\n",
      "13\n",
      "14\n",
      "15\n",
      "16\n",
      "17\n",
      "18\n",
      "19\n",
      "20\n",
      "21\n",
      "22\n",
      "23\n",
      "24\n",
      "25\n",
      "26\n",
      "27\n",
      "28\n"
     ]
    }
   ],
   "source": [
    "chi_list = []\n",
    "M_list = []\n",
    "cv_list = []\n",
    "E_list = []\n",
    "S0_T_list = []\n",
    "SR_T_list = []\n",
    "S0SR_T_list = []\n",
    "for T in[4.0, 5.0, 6.0, 7.0, 8.0, 8.1, 8.2, 8.3, 8.4, 8.5, 8.6, 8.7, 8.8, 8.9, 9.0, 9.2, 10.0, 11.0, 12.0, 13.0]:\n",
    "#for T in [1.0,3.0,4.0,4.1,4.2,4.3,4.4, 4.5,4.6,4.8,5.0,5.2,5.4]:\n",
    "#for T in [0.5]:\n",
    "    print(T)\n",
    "    p  = 1.0 - math.exp(-2.0 / T)\n",
    "    nsteps = 1000\n",
    "\n",
    "    S = [random.choice([1, -1]) for k in range(N)]\n",
    "        #print ('Starting from a random configuration')\n",
    "    S,E_mean, E2_mean,cv,M_mean, M2_mean,chi, S0SR,S0,SR =calculate(S,T)\n",
    "    #chi_list.append(chi)\n",
    "    #M_list.append(M_mean)\n",
    "    print(M_mean,chi)\n",
    "    cv_list.append(cv)\n",
    "    E_list.append(E_mean)\n",
    "    M_list.append(M_mean)\n",
    "    chi_list.append(chi)\n",
    "    S0_T_list.append(S0)\n",
    "    SR_T_list.append(SR)\n",
    "    S0SR_T_list.append(S0SR)"
   ]
  },
  {
   "cell_type": "code",
   "execution_count": null,
   "metadata": {},
   "outputs": [],
   "source": [
    "np.savetxt('M.txt', M_list, fmt='%s')\n",
    "np.savetxt(\"chi.txt\",chi_list,fmt='%s')\n",
    "np.savetxt(\"cv.txt\",cv_list,fmt='%s')\n",
    "np.savetxt(\"E.txt\",E_list,fmt='%s')\n",
    "s0sr_data = pd.DataFrame(S0SR_T_list)\n",
    "s0_data = pd.DataFrame(S0_T_list)\n",
    "sr_data = pd.DataFrame(SR_T_list)\n",
    "\n",
    "s0sr_data.to_hdf(\"s0sr_data.h5\",key = 'data')\n",
    "s0_data.to_hdf(\"s0_data.h5\",key = 'data')\n",
    "sr_data.to_hdf(\"sr_data.h5\",key = 'data')"
   ]
  },
  {
   "cell_type": "code",
   "execution_count": 10,
   "metadata": {},
   "outputs": [],
   "source": [
    "M_list = np.loadtxt('M.txt', dtype = float)\n",
    "M_list = M_list.tolist()\n",
    "\n",
    "Chi_list = np.loadtxt('chi.txt',dtype = float)\n",
    "Chi_list = Chi_list.tolist()\n",
    "\n",
    "E_list = np.loadtxt('E.txt',dtype = float)\n",
    "E_list = E_list.tolist()\n",
    "\n",
    "Cv_list = np.loadtxt('cv.txt', dtype = float)\n",
    "Cv_list = Cv_list.tolist()\n",
    "\n",
    "S0SR_list = pd.read_hdf(\"s0sr_data.h5\",key = 'data')"
   ]
  },
  {
   "cell_type": "code",
   "execution_count": 11,
   "metadata": {},
   "outputs": [],
   "source": [
    "T = [4.0, 5.0, 6.0, 7.0, 8.0, 8.1, 8.2, 8.3, 8.4, 8.5, 8.6, 8.7, 8.8, 8.9, 9.0, 9.2, 10.0, 11.0, 12.0, 13.0]"
   ]
  },
  {
   "cell_type": "code",
   "execution_count": 21,
   "metadata": {},
   "outputs": [
    {
     "data": {
      "image/png": "[encoded data removed]",
      "text/plain": [
       "<Figure size 432x288 with 1 Axes>"
      ]
     },
     "metadata": {},
     "output_type": "display_data"
    }
   ],
   "source": [
    "plt.plot(T, M_list,'o')#color = 'pink'\n",
    "#plt.plot(T, Chi_list)\n",
    "plt.show()"
   ]
  },
  {
   "cell_type": "code",
   "execution_count": null,
   "metadata": {},
   "outputs": [],
   "source": []
  }
 ],
 "metadata": {
  "kernelspec": {
   "display_name": "Python 3",
   "language": "python",
   "name": "python3"
  },
  "language_info": {
   "codemirror_mode": {
    "name": "ipython",
    "version": 3
   },
   "file_extension": ".py",
   "mimetype": "text/x-python",
   "name": "python",
   "nbconvert_exporter": "python",
   "pygments_lexer": "ipython3",
   "version": "3.6.5"
  }
 },
 "nbformat": 4,
 "nbformat_minor": 2
}
