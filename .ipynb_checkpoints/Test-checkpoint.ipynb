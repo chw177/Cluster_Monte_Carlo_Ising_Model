{
 "cells": [
  {
   "cell_type": "code",
   "execution_count": 84,
   "metadata": {
    "scrolled": true
   },
   "outputs": [
    {
     "name": "stdout",
     "output_type": "stream",
     "text": [
      "1.0\n",
      "0\n",
      "1\n",
      "2\n",
      "3\n",
      "4\n",
      "5\n",
      "6\n",
      "7\n",
      "8\n",
      "9\n",
      "10\n",
      "11\n",
      "12\n",
      "13\n",
      "14\n",
      "15\n",
      "16\n",
      "17\n",
      "18\n",
      "19\n",
      "20\n",
      "21\n",
      "22\n",
      "23\n",
      "24\n",
      "25\n",
      "26\n",
      "27\n",
      "28\n",
      "29\n",
      "30\n",
      "31\n",
      "32\n",
      "33\n",
      "34\n",
      "35\n",
      "36\n",
      "37\n",
      "38\n",
      "39\n",
      "40\n",
      "41\n",
      "42\n",
      "43\n",
      "44\n",
      "45\n",
      "46\n"
     ]
    },
    {
     "ename": "KeyboardInterrupt",
     "evalue": "",
     "output_type": "error",
     "traceback": [
      "\u001b[0;31m---------------------------------------------------------------------------\u001b[0m",
      "\u001b[0;31mKeyboardInterrupt\u001b[0m                         Traceback (most recent call last)",
      "\u001b[0;32m<ipython-input-84-ffc7e3ce4e19>\u001b[0m in \u001b[0;36m<module>\u001b[0;34m()\u001b[0m\n\u001b[1;32m     73\u001b[0m     \u001b[0mS\u001b[0m \u001b[0;34m=\u001b[0m \u001b[0;34m[\u001b[0m\u001b[0mrandom\u001b[0m\u001b[0;34m.\u001b[0m\u001b[0mchoice\u001b[0m\u001b[0;34m(\u001b[0m\u001b[0;34m[\u001b[0m\u001b[0;36m1\u001b[0m\u001b[0;34m,\u001b[0m \u001b[0;34m-\u001b[0m\u001b[0;36m1\u001b[0m\u001b[0;34m]\u001b[0m\u001b[0;34m)\u001b[0m \u001b[0;32mfor\u001b[0m \u001b[0mk\u001b[0m \u001b[0;32min\u001b[0m \u001b[0mrange\u001b[0m\u001b[0;34m(\u001b[0m\u001b[0mN\u001b[0m\u001b[0;34m)\u001b[0m\u001b[0;34m]\u001b[0m\u001b[0;34m\u001b[0m\u001b[0m\n\u001b[1;32m     74\u001b[0m         \u001b[0;31m#print ('Starting from a random configuration')\u001b[0m\u001b[0;34m\u001b[0m\u001b[0;34m\u001b[0m\u001b[0m\n\u001b[0;32m---> 75\u001b[0;31m     \u001b[0mS\u001b[0m\u001b[0;34m,\u001b[0m\u001b[0mE_mean\u001b[0m\u001b[0;34m,\u001b[0m \u001b[0mE2_mean\u001b[0m\u001b[0;34m,\u001b[0m\u001b[0mcv\u001b[0m\u001b[0;34m,\u001b[0m\u001b[0mM_mean\u001b[0m\u001b[0;34m,\u001b[0m \u001b[0mM2_mean\u001b[0m\u001b[0;34m,\u001b[0m\u001b[0mchi\u001b[0m\u001b[0;34m=\u001b[0m\u001b[0mcalculate\u001b[0m\u001b[0;34m(\u001b[0m\u001b[0mS\u001b[0m\u001b[0;34m,\u001b[0m\u001b[0mT\u001b[0m\u001b[0;34m)\u001b[0m\u001b[0;34m\u001b[0m\u001b[0m\n\u001b[0m\u001b[1;32m     76\u001b[0m     \u001b[0;31m#chi_list.append(chi)\u001b[0m\u001b[0;34m\u001b[0m\u001b[0;34m\u001b[0m\u001b[0m\n\u001b[1;32m     77\u001b[0m     \u001b[0;31m#M_list.append(M_mean)\u001b[0m\u001b[0;34m\u001b[0m\u001b[0;34m\u001b[0m\u001b[0m\n",
      "\u001b[0;32m<ipython-input-84-ffc7e3ce4e19>\u001b[0m in \u001b[0;36mcalculate\u001b[0;34m(S, T, replace)\u001b[0m\n\u001b[1;32m     36\u001b[0m             \u001b[0mj\u001b[0m \u001b[0;34m=\u001b[0m \u001b[0mrandom\u001b[0m\u001b[0;34m.\u001b[0m\u001b[0mchoice\u001b[0m\u001b[0;34m(\u001b[0m\u001b[0mPocket\u001b[0m\u001b[0;34m)\u001b[0m \u001b[0;32mif\u001b[0m \u001b[0mreplace\u001b[0m \u001b[0;32melse\u001b[0m \u001b[0mPocket\u001b[0m\u001b[0;34m.\u001b[0m\u001b[0mpop\u001b[0m\u001b[0;34m(\u001b[0m\u001b[0;34m)\u001b[0m\u001b[0;34m\u001b[0m\u001b[0m\n\u001b[1;32m     37\u001b[0m             \u001b[0;32mfor\u001b[0m \u001b[0ml\u001b[0m \u001b[0;32min\u001b[0m \u001b[0mnbr\u001b[0m\u001b[0;34m[\u001b[0m\u001b[0mj\u001b[0m\u001b[0;34m]\u001b[0m\u001b[0;34m:\u001b[0m\u001b[0;34m\u001b[0m\u001b[0m\n\u001b[0;32m---> 38\u001b[0;31m                 \u001b[0;32mif\u001b[0m \u001b[0mS\u001b[0m\u001b[0;34m[\u001b[0m\u001b[0ml\u001b[0m\u001b[0;34m]\u001b[0m \u001b[0;34m==\u001b[0m \u001b[0mS\u001b[0m\u001b[0;34m[\u001b[0m\u001b[0mj\u001b[0m\u001b[0;34m]\u001b[0m \u001b[0;32mand\u001b[0m \u001b[0ml\u001b[0m \u001b[0;32mnot\u001b[0m \u001b[0;32min\u001b[0m \u001b[0mCluster\u001b[0m                        \u001b[0;32mand\u001b[0m \u001b[0mrandom\u001b[0m\u001b[0;34m.\u001b[0m\u001b[0muniform\u001b[0m\u001b[0;34m(\u001b[0m\u001b[0;36m0.0\u001b[0m\u001b[0;34m,\u001b[0m \u001b[0;36m1.0\u001b[0m\u001b[0;34m)\u001b[0m \u001b[0;34m<\u001b[0m \u001b[0mp\u001b[0m\u001b[0;34m:\u001b[0m\u001b[0;34m\u001b[0m\u001b[0m\n\u001b[0m\u001b[1;32m     39\u001b[0m                     \u001b[0mPocket\u001b[0m\u001b[0;34m.\u001b[0m\u001b[0mappend\u001b[0m\u001b[0;34m(\u001b[0m\u001b[0ml\u001b[0m\u001b[0;34m)\u001b[0m\u001b[0;34m\u001b[0m\u001b[0m\n\u001b[1;32m     40\u001b[0m                     \u001b[0mCluster\u001b[0m\u001b[0;34m.\u001b[0m\u001b[0mappend\u001b[0m\u001b[0;34m(\u001b[0m\u001b[0ml\u001b[0m\u001b[0;34m)\u001b[0m\u001b[0;34m\u001b[0m\u001b[0m\n",
      "\u001b[0;31mKeyboardInterrupt\u001b[0m: "
     ]
    }
   ],
   "source": [
    "import pandas as pd \n",
    "import numpy as np\n",
    "import matplotlib.pyplot as plt \n",
    "import random\n",
    "from scipy.optimize import curve_fit\n",
    "import math\n",
    "from tqdm import tqdm\n",
    "import pandas as pd\n",
    "import csv\n",
    "\n",
    "import random, math, numpy as np, os\n",
    "\n",
    "def energy(S, N, nbr):\n",
    "    E = 0.0\n",
    "    for k in range(N):\n",
    "        E -=  S[k] * sum(S[nn] for nn in nbr[k])\n",
    "    return 0.5 * E\n",
    "\n",
    "def magnetization (S, N, nbr):\n",
    "    M = 0.0\n",
    "    for k in range(N):\n",
    "        M += S[k]\n",
    "        M = M/(50*2)\n",
    "    return M\n",
    "\n",
    "\n",
    "\n",
    "def calculate(S,T,replace=True):\n",
    "    E = [energy(S, N, nbr)]\n",
    "    M = [magnetization (S, N, nbr)]\n",
    "    for step in range(nsteps):\n",
    "        print(step)\n",
    "        k = random.randint(0, N - 1)\n",
    "        Pocket, Cluster = [k], [k]\n",
    "        while Pocket != []:\n",
    "            j = random.choice(Pocket) if replace else Pocket.pop()\n",
    "            for l in nbr[j]:\n",
    "                if S[l] == S[j] and l not in Cluster \\\n",
    "                       and random.uniform(0.0, 1.0) < p:\n",
    "                    Pocket.append(l)\n",
    "                    Cluster.append(l)\n",
    "            if replace: Pocket.remove(j)\n",
    "        for j in Cluster:\n",
    "            S[j] *= -1\n",
    "            \n",
    "        E.append(energy(S, N, nbr))\n",
    "        M.append(magnetization(S, N, nbr))\n",
    "    E_mean = sum(E) / len(E)/N\n",
    "    E2_mean = sum(a ** 2 for a in E) / len(E)/N\n",
    "    cv = (E2_mean - E_mean ** 2 ) / T ** 2    \n",
    "    \n",
    "    M_mean = sum(abs(a) for a in M)\n",
    "    M2_mean = sum(a ** 2 for a in M) \n",
    "    chi = (M2_mean - M_mean ** 2 ) / T \n",
    "    print(M)\n",
    "    return S,E_mean, E2_mean,cv,M_mean, M2_mean,chi\n",
    "\n",
    "L = 50\n",
    "\n",
    "N = L * L\n",
    "nbr = {i : ((i // L) * L + (i + 1) % L, (i + L) % N,\n",
    "            (i // L) * L + (i - 1) % L, (i - L) % N)\n",
    "                                    for i in range(N)}\n",
    "\n",
    "chi_list = []\n",
    "M_list = []\n",
    "M2_list = []\n",
    "cv_list = []\n",
    "E_list = []\n",
    "for T in [1.0]:\n",
    "    print(T)\n",
    "    p  = 1.0 - math.exp(-2.0 / T)\n",
    "    nsteps = 1000\n",
    "\n",
    "    S = [random.choice([1, -1]) for k in range(N)]\n",
    "        #print ('Starting from a random configuration')\n",
    "    S,E_mean, E2_mean,cv,M_mean, M2_mean,chi=calculate(S,T)\n",
    "    #chi_list.append(chi)\n",
    "    #M_list.append(M_mean)\n",
    "    print(M_mean,chi)\n",
    "    cv_list.append(cv)\n",
    "    E_list.append(E_mean)\n",
    "    M_list.append(M_mean)\n",
    "    M2_list.append(M2_mean)\n",
    "    chi_list.append(chi)\n"
   ]
  },
  {
   "cell_type": "code",
   "execution_count": 83,
   "metadata": {},
   "outputs": [
    {
     "data": {
      "text/plain": [
       "[-102.13234812776057]"
      ]
     },
     "execution_count": 83,
     "metadata": {},
     "output_type": "execute_result"
    }
   ],
   "source": [
    "chi_list"
   ]
  },
  {
   "cell_type": "code",
   "execution_count": 75,
   "metadata": {},
   "outputs": [
    {
     "data": {
      "text/plain": [
       "10.0"
      ]
     },
     "execution_count": 75,
     "metadata": {},
     "output_type": "execute_result"
    }
   ],
   "source": [
    "1000*1000/1000/100"
   ]
  },
  {
   "cell_type": "code",
   "execution_count": 48,
   "metadata": {},
   "outputs": [
    {
     "name": "stdout",
     "output_type": "stream",
     "text": [
      "1\n",
      "1 2459.259526919593\n"
     ]
    }
   ],
   "source": [
    "import random, math, numpy as np, os\n",
    "\n",
    "def energy(S, N, nbr):\n",
    "    E = 0.0\n",
    "    for k in range(N):\n",
    "        E -=  S[k] * sum(S[nn] for nn in nbr[k])\n",
    "    return 0.5 * E\n",
    "\n",
    "\n",
    "\n",
    "def mean_energy_per_spin(S,replace=True):\n",
    "    E = [energy(S, N, nbr)]\n",
    "    for step in range(nsteps):\n",
    "        k = random.randint(0, N - 1)\n",
    "        Pocket, Cluster = [k], [k]\n",
    "        while Pocket != []:\n",
    "            j = random.choice(Pocket) if replace else Pocket.pop()\n",
    "            for l in nbr[j]:\n",
    "                if S[l] == S[j] and l not in Cluster \\\n",
    "                       and random.uniform(0.0, 1.0) < p:\n",
    "                    Pocket.append(l)\n",
    "                    Cluster.append(l)\n",
    "            if replace: Pocket.remove(j)\n",
    "        for j in Cluster:\n",
    "            S[j] *= -1\n",
    "        E.append(energy(S, N, nbr))\n",
    "    E_mean = sum(E) / len(E)\n",
    "    E2_mean = sum(a ** 2 for a in E) / len(E)\n",
    "    cv = (E2_mean - E_mean ** 2 ) / N / T ** 2    \n",
    "    return S,E_mean, E2_mean,cv\n",
    "\n",
    "chi_list = []\n",
    "M_list = []\n",
    "cv_list = []\n",
    "#for T in [1, 2, 2.1, 2.2, 2.3, 2.4 ,3, 4, 5]:\n",
    "for T in [1]:\n",
    "    L = 50\n",
    "    print(T)\n",
    "    N = L * L\n",
    "    nbr = {i : ((i // L) * L + (i + 1) % L, (i + L) % N,\n",
    "                (i // L) * L + (i - 1) % L, (i - L) % N)\n",
    "                                        for i in range(N)}\n",
    "    \n",
    "    #T = 2.27\n",
    "    p  = 1.0 - math.exp(-2.0 / T)\n",
    "    nsteps = 1000\n",
    "\n",
    "    S = [random.choice([1, -1]) for k in range(N)]\n",
    "        #print ('Starting from a random configuration')\n",
    "    #S,E_mean, E2_mean,cv=mean_energy_per_spin(S)\n",
    "    S,M_mean, M2_mean,chi=susceptibility(S,T)\n",
    "    print(T, chi)\n",
    "    chi_list.append(chi)"
   ]
  },
  {
   "cell_type": "code",
   "execution_count": 49,
   "metadata": {},
   "outputs": [
    {
     "data": {
      "text/plain": [
       "0.9864143856143855"
      ]
     },
     "execution_count": 49,
     "metadata": {},
     "output_type": "execute_result"
    }
   ],
   "source": [
    "M_mean"
   ]
  },
  {
   "cell_type": "code",
   "execution_count": 50,
   "metadata": {},
   "outputs": [
    {
     "data": {
      "text/plain": [
       "2460.2325402597403"
      ]
     },
     "execution_count": 50,
     "metadata": {},
     "output_type": "execute_result"
    }
   ],
   "source": [
    "M2_mean"
   ]
  },
  {
   "cell_type": "code",
   "execution_count": 40,
   "metadata": {},
   "outputs": [],
   "source": [
    "import pandas as pd \n",
    "import numpy as np\n",
    "import matplotlib.pyplot as plt \n",
    "import random\n",
    "from scipy.optimize import curve_fit\n",
    "import math\n",
    "from tqdm import tqdm\n",
    "import pandas as pd"
   ]
  },
  {
   "cell_type": "code",
   "execution_count": 43,
   "metadata": {},
   "outputs": [
    {
     "data": {
      "text/plain": [
       "[<matplotlib.lines.Line2D at 0x1013d50dd8>]"
      ]
     },
     "execution_count": 43,
     "metadata": {},
     "output_type": "execute_result"
    },
    {
     "data": {
      "image/png": "[encoded data removed]",
      "text/plain": [
       "<Figure size 432x288 with 1 Axes>"
      ]
     },
     "metadata": {},
     "output_type": "display_data"
    }
   ],
   "source": [
    "plt.plot([1, 2, 2.1, 2.2, 2.3, 2.4 ,3, 4, 5],[66.07414148289412,86.94646376121342,83.3613200828678,62.57349752566615,\n",
    "                                             64.01785581048544,50.85157234152242,12.189772226663328,\n",
    "                                             3.301786691230847,1.0318792224758249] ,'o')"
   ]
  },
  {
   "cell_type": "code",
   "execution_count": 46,
   "metadata": {},
   "outputs": [
    {
     "data": {
      "text/plain": [
       "[<matplotlib.lines.Line2D at 0x1013f05e80>]"
      ]
     },
     "execution_count": 46,
     "metadata": {},
     "output_type": "execute_result"
    },
    {
     "data": {
      "image/png": "[encoded data removed]",
      "text/plain": [
       "<Figure size 432x288 with 1 Axes>"
      ]
     },
     "metadata": {},
     "output_type": "display_data"
    }
   ],
   "source": [
    "plt.plot([1, 2, 2.1, 2.2, 2.3, 2.4 ,3, 4, 5],chi_list,'o')"
   ]
  },
  {
   "cell_type": "code",
   "execution_count": 69,
   "metadata": {
    "scrolled": true
   },
   "outputs": [
    {
     "name": "stdout",
     "output_type": "stream",
     "text": [
      "T: 1\n",
      "6 -0.0276\n",
      "13 -0.0662\n",
      "20 -0.0446\n",
      "27 0.1448\n",
      "34 -0.744\n",
      "41 -0.9998\n",
      "48 0.9992\n",
      "55 -0.9986\n",
      "62 0.9986\n",
      "69 -0.999\n",
      "76 0.9988\n",
      "83 -0.999\n",
      "90 0.9996\n",
      "97 -0.9986\n",
      "104 0.9994\n",
      "111 -0.9992\n",
      "118 0.9992\n",
      "125 -0.9996\n",
      "132 0.999\n",
      "139 -0.9994\n",
      "146 0.9998\n",
      "153 -0.9994\n",
      "160 0.9994\n",
      "167 -0.9988\n",
      "174 0.9994\n",
      "181 -1.0\n",
      "188 0.9986\n",
      "195 -0.9998\n",
      "202 0.9992\n",
      "209 -0.999\n",
      "216 0.9988\n",
      "223 -1.0\n",
      "230 0.9988\n",
      "237 -0.9992\n",
      "244 0.999\n",
      "251 -0.9996\n",
      "258 0.9994\n",
      "265 -0.9994\n",
      "272 0.9996\n",
      "279 -0.9994\n",
      "286 0.9998\n",
      "293 -0.9992\n",
      "300 0.999\n",
      "307 -0.9996\n",
      "314 0.999\n",
      "321 -0.9998\n",
      "328 0.9996\n",
      "335 -0.9992\n",
      "342 0.9992\n",
      "349 -0.9994\n",
      "356 0.9988\n",
      "363 -0.9994\n",
      "370 0.9992\n",
      "377 -0.9982\n",
      "384 0.9994\n",
      "391 -0.9992\n",
      "398 0.9998\n",
      "405 -0.999\n",
      "412 0.9996\n",
      "419 -0.9994\n",
      "426 0.9996\n",
      "433 -0.9994\n",
      "440 0.9994\n",
      "447 -0.9986\n",
      "454 0.9992\n",
      "461 -0.999\n",
      "468 0.9998\n",
      "475 -0.999\n",
      "482 0.9998\n",
      "489 -0.9992\n",
      "496 0.9998\n",
      "503 -0.9994\n",
      "510 0.9998\n",
      "517 -0.9996\n",
      "524 0.9992\n",
      "531 -0.9998\n",
      "538 0.9994\n",
      "545 -0.9994\n",
      "552 0.9992\n",
      "559 -0.9998\n",
      "566 0.999\n",
      "573 -0.9996\n",
      "580 0.9994\n",
      "587 -0.999\n",
      "594 0.9992\n",
      "601 -0.9996\n",
      "608 0.999\n",
      "615 -0.9984\n",
      "622 0.999\n",
      "629 -0.9986\n",
      "636 0.9984\n",
      "643 -0.9992\n",
      "650 0.9992\n",
      "657 -0.9994\n",
      "664 0.9996\n",
      "671 -0.9988\n",
      "678 1.0\n",
      "685 -0.9992\n",
      "692 0.9996\n",
      "699 -0.9994\n",
      "706 0.9998\n",
      "713 -0.9998\n",
      "720 0.9994\n",
      "727 -0.9992\n",
      "734 0.999\n",
      "741 -0.9992\n",
      "748 0.9994\n",
      "755 -0.9994\n",
      "762 0.9998\n",
      "769 -1.0\n",
      "776 0.9996\n",
      "783 -0.9992\n",
      "790 0.9994\n",
      "797 -0.9994\n",
      "804 0.999\n",
      "811 -0.9988\n",
      "818 0.9998\n",
      "825 -0.9992\n",
      "832 0.999\n",
      "839 -1.0\n",
      "846 0.9998\n",
      "853 -0.9994\n",
      "860 0.9996\n",
      "867 -0.9992\n",
      "874 0.9994\n",
      "881 -0.9988\n",
      "888 0.9998\n",
      "895 -0.9986\n",
      "902 1.0\n",
      "909 -0.9996\n",
      "916 0.9988\n",
      "923 -0.9994\n",
      "930 0.9988\n",
      "937 -0.9994\n",
      "944 0.9994\n",
      "951 -0.999\n",
      "958 0.9994\n",
      "965 -0.9992\n",
      "972 1.0\n",
      "979 -0.9984\n"
     ]
    }
   ],
   "source": [
    "import numpy as np\n",
    "import matplotlib.pyplot as plt \n",
    "import random\n",
    "from scipy.optimize import curve_fit\n",
    "import csv\n",
    "\n",
    "#cluster Monte Carlo\n",
    "D = 2\n",
    "l = 100\n",
    "t_step = 7\n",
    "J = 1\n",
    "T_list = [1]\n",
    "#1.0,1.25,1.5,1.75,2.0,2.1,2.15,2.20,2.24,2.25,2.26,2.27,2.28,2.29,2.30,2.4,2.5,2.75,3.0,3.25,3.75,4.0,4.25,4.5,4.75\n",
    "#create a stack\n",
    "M2_list = []\n",
    "M_list = []\n",
    "C_list = []\n",
    "chi_list = []\n",
    "ksai_list = []\n",
    "\n",
    "class Stack:\n",
    "    def __init__(self):\n",
    "        self.items = []\n",
    "\n",
    "    def isEmpty(self):\n",
    "        return self.items == []\n",
    "\n",
    "    def push(self,item):\n",
    "        self.items.append(item)\n",
    "\n",
    "    def pop(self):\n",
    "        return self.items.pop(0)\n",
    "\n",
    "    def func(x,ksai,A,Const):\n",
    "        return A*np.exp(-x/ksai)+Const\n",
    "\n",
    "for T in T_list:\n",
    "    print ('T:', T)\n",
    "    t = 0\n",
    "    t_max = 980#100000\n",
    "    beta = 1/T\n",
    "    p = 1-np.exp(-2*beta*J)\n",
    "    grid = 2*np.random.randint(2, size=(l,l))-1\n",
    "\n",
    "    s = Stack()\n",
    "    sum_M = 0.0\n",
    "    sum_E = 0.0\n",
    "    sum_M_2 = 0.0\n",
    "    sum_E_2 = 0.0\n",
    "    correlation = np.zeros(shape = (l,))\n",
    "\n",
    "    #flip the spin according to the algorithm\n",
    "    while t < t_max:\n",
    "        flipped = np.zeros(shape=(l,l))\n",
    "        i = np.random.randint(l - 1)\n",
    "        j = np.random.randint(l - 1)\n",
    "        s.push((i,j))\n",
    "        flipped[i,j] = 1\n",
    "\n",
    "        M = 0.0\n",
    "        E = 0.0\n",
    "\n",
    "        while not s.isEmpty():\n",
    "            x,y = s.pop()\n",
    "            for (x_,y_) in [((x-1)%l,y),(x,(y-1)%l),((x+1)%l,y),(x,(y+1)%l)]:\n",
    "                if (grid[x,y] == grid[x_,y_]) and (flipped[x_,y_]==0) and (p>random.random()):\n",
    "                    s.push((x_,y_))\n",
    "                    flipped[x_,y_]=1\n",
    "            grid[x,y] = -grid[x,y] \n",
    "            #inner while loop is over\n",
    "\n",
    "        if (t+1)%t_step == 0:\n",
    "            #print (t)\n",
    "            #calculate M\n",
    "            M = sum(sum(grid))\n",
    "            \n",
    "            M = M/(l**2*1.0)\n",
    "            print(t, M)\n",
    "            sum_M = sum_M + np.abs(M) \n",
    "            sum_M_2 = sum_M_2 + M * M\n",
    "            #calculate E\t\t\n",
    "            for i in range(l):\n",
    "                for j in range(l):\n",
    "                    E = E - J*(grid[i,j]*grid[i,(j+1)%l] + grid[i,j]*grid[(i+1)%l,j])\n",
    "\n",
    "            E = E/(l**2*1.0)\n",
    "            sum_E = sum_E + np.abs(E)\n",
    "            sum_E_2 = sum_E_2 + E * E\n",
    "\n",
    "            #calculate the correlation length\n",
    "            cross  = np.zeros(shape = (l,))\n",
    "            for i in range(l):\n",
    "                grid_piece_k = (np.abs(np.fft.fft(grid[i,:])))**2\n",
    "                cross = np.vstack((cross,np.real(np.fft.ifft(grid_piece_k))))\n",
    "                grid_piece_k = (np.abs(np.fft.fft(grid[:,i])))**2\n",
    "                cross = np.vstack((cross,np.real(np.fft.ifft(grid_piece_k))))\n",
    "\n",
    "            cross = np.sum(cross,axis = 0)/(1.0*D*l**D) \n",
    "            correlation = correlation + cross\n",
    "\n",
    "        t = t + 1\n",
    "        #outer while loop is over\n",
    "\n",
    "    ave_M = sum_M/((t_max//t_step)*1.0)\n",
    "    ave_M_2 = sum_M_2/((t_max//t_step)*1.0)\n",
    "\n",
    "    ave_E = sum_E/((t_max//t_step)*1.0)\n",
    "    ave_E_2 = sum_E_2/((t_max//t_step)*1.0)\n",
    "\n",
    "    correlation = (correlation/((t_max//t_step)*1.0) - ave_M**2)[0:50]\n",
    "    popt,pcov = curve_fit(func,np.arange(0,50),correlation)\n",
    "    ksai = popt[0]\n",
    "    offset = popt[2]\n",
    "\n",
    "    C = ave_E_2-ave_E**2\n",
    "    chi = ave_M_2-ave_M**2\n",
    "    M2_list.append(ave_M_2)\n",
    "    M_list.append(ave_M)\n",
    "    C_list.append(C)\n",
    "    chi_list.append(chi)\n",
    "    ksai_list.append(ksai)\n",
    "\n"
   ]
  },
  {
   "cell_type": "code",
   "execution_count": 58,
   "metadata": {},
   "outputs": [
    {
     "data": {
      "text/plain": [
       "[0.025180944971430308]"
      ]
     },
     "execution_count": 58,
     "metadata": {},
     "output_type": "execute_result"
    }
   ],
   "source": [
    "chi_list"
   ]
  },
  {
   "cell_type": "code",
   "execution_count": 64,
   "metadata": {},
   "outputs": [
    {
     "data": {
      "text/plain": [
       "[0.9600637200000001]"
      ]
     },
     "execution_count": 64,
     "metadata": {},
     "output_type": "execute_result"
    }
   ],
   "source": [
    "M2_list"
   ]
  },
  {
   "cell_type": "code",
   "execution_count": 68,
   "metadata": {},
   "outputs": [
    {
     "data": {
      "text/plain": [
       "10000"
      ]
     },
     "execution_count": 68,
     "metadata": {},
     "output_type": "execute_result"
    }
   ],
   "source": [
    "l**2"
   ]
  },
  {
   "cell_type": "code",
   "execution_count": null,
   "metadata": {},
   "outputs": [],
   "source": []
  }
 ],
 "metadata": {
  "kernelspec": {
   "display_name": "Python 3",
   "language": "python",
   "name": "python3"
  },
  "language_info": {
   "codemirror_mode": {
    "name": "ipython",
    "version": 3
   },
   "file_extension": ".py",
   "mimetype": "text/x-python",
   "name": "python",
   "nbconvert_exporter": "python",
   "pygments_lexer": "ipython3",
   "version": "3.6.5"
  }
 },
 "nbformat": 4,
 "nbformat_minor": 2
}
